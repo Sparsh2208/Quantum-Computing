{
  "cells": [
    {
      "attachments": {},
      "cell_type": "markdown",
      "metadata": {
        "id": "YwaRTe6EuLCd"
      },
      "source": [
        "# part 4"
      ]
    },
    {
      "cell_type": "code",
      "execution_count": null,
      "metadata": {
        "id": "8hvcflQ3u-tG"
      },
      "outputs": [],
      "source": [
        "Bernstein-Vazirani Algorithm\n",
        "Written by Abraham Asfaw, IBM TJ Watson Research Center\n",
        "In this episode of Coding with Qiskit, we learned about the Bernstein-Vazirani algorithm. Briefly, the Bernstein-Vazirani algorithm allows us to determine a secret number stored inside a box. Mathematically, the problem statement that we are solving is the following:\n",
        "\n",
        "Consider a hidden Boolean function \n",
        " which takes in a string of \n",
        " bits \n",
        " and returns 1 for only a unique n-bit string \n",
        " and 0 otherwise.\n",
        "\n",
        "How many attempts do we need to make in order to find the secret number \n",
        "?\n",
        "\n",
        "Classically, we covered two approaches.\n",
        "\n",
        "For an n-bit secret number, the first approach is to try all possible numbers from 0 to \n",
        ". This leads to an exponential number of attempts as \n",
        " grows.\n",
        "\n",
        "The second approach assumes that if the box isn't just giving a yes/no result if the number matches, but instead computes \n",
        " modulo 2, (this is a yes/no result as well, but we are now computing the bitwise AND between the two numbers \n",
        " and \n",
        ", and adding up the results, and finally returning the sum modulo 2) then we can be a bit more clever and give the box \n",
        " different inputs (namely \n",
        ") to reveal each of its bits. Check out the video to see how this works. This method means that we would need to make \n",
        " attempts to find the secret number.\n",
        "\n",
        "The Bernstein-Vazirani algorithm allows us to find the secret number in 1 attempt, independent of the size of the secret number. For the mathematics behind how the algorithm works, check out the Bernstein-Vazirani section in our open-source Qiskit textbook.\n",
        "\n",
        "The algorithm was described by Ethan Bernstein and Umesh Vazirani.\n",
        "\n",
        "Link to Episode 6: https://www.youtube.com/watch?v=sqJIpHYl7oo"
      ]
    },
    {
      "cell_type": "code",
      "execution_count": 22,
      "metadata": {
        "id": "GI5_H3-yu_zf"
      },
      "outputs": [],
      "source": [
        "%matplotlib inline\n",
        "from qiskit.tools.visualization import plot_histogram\n"
      ]
    },
    {
      "cell_type": "code",
      "execution_count": 26,
      "metadata": {
        "colab": {
          "base_uri": "https://localhost:8080/"
        },
        "id": "sTUA3S_gwGrO",
        "outputId": "ebead96e-eb7a-490c-b8f7-2d1a5a514f1b"
      },
      "outputs": [
        {
          "data": {
            "text/plain": [
              "<qiskit.circuit.instructionset.InstructionSet at 0x7fe581840b50>"
            ]
          },
          "execution_count": 26,
          "metadata": {},
          "output_type": "execute_result"
        }
      ],
      "source": [
        "secret_number = '101010'\n",
        "n = len(secret_number)\n",
        "circuit = QuantumCircuit(n+1,n)\n",
        "circuit.h([0,1,2,3,4,5])"
      ]
    },
    {
      "cell_type": "code",
      "execution_count": 36,
      "metadata": {
        "colab": {
          "base_uri": "https://localhost:8080/",
          "height": 802
        },
        "id": "hY0fb1FbwkPX",
        "outputId": "9d948b04-cc2a-408f-9952-0490791996c9"
      },
      "outputs": [
        {
          "data": {
            "text/html": [
              "<pre style=\"word-wrap: normal;white-space: pre;background: #fff0;line-height: 1.1;font-family: &quot;Courier New&quot;,Courier,monospace\">     ┌───┐                ░            ░                 ░                     »\n",
              "q_0: ┤ H ├────────────────░────────────░─────────────────░─────────────────────»\n",
              "     ├───┤                ░            ░                 ░                     »\n",
              "q_1: ┤ H ├────────────────░────────────░─────────────────░─────────────────────»\n",
              "     ├───┤                ░            ░                 ░                     »\n",
              "q_2: ┤ H ├────────────────░────────────░─────────────────░─────────────────────»\n",
              "     ├───┤                ░            ░                 ░                     »\n",
              "q_3: ┤ H ├────────────────░────────────░─────────────────░─────────────────────»\n",
              "     ├───┤                ░            ░                 ░                     »\n",
              "q_4: ┤ H ├────────────────░────────────░─────────────────░─────────────────────»\n",
              "     ├───┤                ░            ░                 ░                     »\n",
              "q_5: ┤ H ├────────────────░────────────░───■─────────────░───■────■────■────■──»\n",
              "     ├───┤┌───┐┌───┐┌───┐ ░ ┌───┐┌───┐ ░ ┌─┴─┐┌───┐┌───┐ ░ ┌─┴─┐┌─┴─┐┌─┴─┐┌─┴─┐»\n",
              "q_6: ┤ H ├┤ X ├┤ H ├┤ X ├─░─┤ H ├┤ X ├─░─┤ X ├┤ H ├┤ X ├─░─┤ X ├┤ X ├┤ X ├┤ X ├»\n",
              "     └───┘└───┘└───┘└───┘ ░ └───┘└───┘ ░ └───┘└───┘└───┘ ░ └───┘└───┘└───┘└───┘»\n",
              "c: 6/══════════════════════════════════════════════════════════════════════════»\n",
              "                                                                               »\n",
              "«                     ░                                     ░                »\n",
              "«q_0: ────────────────░─────────────■───────────────────────░─────────────■──»\n",
              "«                     ░             │                       ░             │  »\n",
              "«q_1: ────────────────░─────────────┼───────────────────────░─────────────┼──»\n",
              "«                     ░             │                       ░             │  »\n",
              "«q_2: ────────────────░─────────────┼───────────────────────░─────────────┼──»\n",
              "«                     ░             │                       ░             │  »\n",
              "«q_3: ────────────────░────────■────┼───────────────────────░────────■────┼──»\n",
              "«                     ░        │    │                       ░        │    │  »\n",
              "«q_4: ────────────────░────────┼────┼───────────────────────░────────┼────┼──»\n",
              "«                     ░        │    │                       ░        │    │  »\n",
              "«q_5: ──■─────────────░───■────┼────┼────■────■─────────────░───■────┼────┼──»\n",
              "«     ┌─┴─┐┌───┐┌───┐ ░ ┌─┴─┐┌─┴─┐┌─┴─┐┌─┴─┐┌─┴─┐┌───┐┌───┐ ░ ┌─┴─┐┌─┴─┐┌─┴─┐»\n",
              "«q_6: ┤ X ├┤ H ├┤ X ├─░─┤ X ├┤ X ├┤ X ├┤ X ├┤ X ├┤ H ├┤ X ├─░─┤ X ├┤ X ├┤ X ├»\n",
              "«     └───┘└───┘└───┘ ░ └───┘└───┘└───┘└───┘└───┘└───┘└───┘ ░ └───┘└───┘└───┘»\n",
              "«c: 6/═══════════════════════════════════════════════════════════════════════»\n",
              "«                                                                            »\n",
              "«                ░                           ░                 ░ \n",
              "«q_0: ───────────░─────────────■─────────────░─────────────■───░─\n",
              "«                ░             │             ░             │   ░ \n",
              "«q_1: ───────────░─────────────┼─────────────░─────────────┼───░─\n",
              "«                ░             │             ░             │   ░ \n",
              "«q_2: ───────────░─────────────┼─────────────░─────────────┼───░─\n",
              "«                ░             │             ░             │   ░ \n",
              "«q_3: ───────────░────────■────┼─────────────░────────■────┼───░─\n",
              "«                ░        │    │             ░        │    │   ░ \n",
              "«q_4: ───────────░────────┼────┼─────────────░────────┼────┼───░─\n",
              "«                ░        │    │             ░        │    │   ░ \n",
              "«q_5: ───────────░───■────┼────┼─────────────░───■────┼────┼───░─\n",
              "«     ┌───┐┌───┐ ░ ┌─┴─┐┌─┴─┐┌─┴─┐┌───┐┌───┐ ░ ┌─┴─┐┌─┴─┐┌─┴─┐ ░ \n",
              "«q_6: ┤ H ├┤ X ├─░─┤ X ├┤ X ├┤ X ├┤ H ├┤ X ├─░─┤ X ├┤ X ├┤ X ├─░─\n",
              "«     └───┘└───┘ ░ └───┘└───┘└───┘└───┘└───┘ ░ └───┘└───┘└───┘ ░ \n",
              "«c: 6/═══════════════════════════════════════════════════════════\n",
              "«                                                                </pre>"
            ],
            "text/plain": [
              "     ┌───┐                ░            ░                 ░                     »\n",
              "q_0: ┤ H ├────────────────░────────────░─────────────────░─────────────────────»\n",
              "     ├───┤                ░            ░                 ░                     »\n",
              "q_1: ┤ H ├────────────────░────────────░─────────────────░─────────────────────»\n",
              "     ├───┤                ░            ░                 ░                     »\n",
              "q_2: ┤ H ├────────────────░────────────░─────────────────░─────────────────────»\n",
              "     ├───┤                ░            ░                 ░                     »\n",
              "q_3: ┤ H ├────────────────░────────────░─────────────────░─────────────────────»\n",
              "     ├───┤                ░            ░                 ░                     »\n",
              "q_4: ┤ H ├────────────────░────────────░─────────────────░─────────────────────»\n",
              "     ├───┤                ░            ░                 ░                     »\n",
              "q_5: ┤ H ├────────────────░────────────░───■─────────────░───■────■────■────■──»\n",
              "     ├───┤┌───┐┌───┐┌───┐ ░ ┌───┐┌───┐ ░ ┌─┴─┐┌───┐┌───┐ ░ ┌─┴─┐┌─┴─┐┌─┴─┐┌─┴─┐»\n",
              "q_6: ┤ H ├┤ X ├┤ H ├┤ X ├─░─┤ H ├┤ X ├─░─┤ X ├┤ H ├┤ X ├─░─┤ X ├┤ X ├┤ X ├┤ X ├»\n",
              "     └───┘└───┘└───┘└───┘ ░ └───┘└───┘ ░ └───┘└───┘└───┘ ░ └───┘└───┘└───┘└───┘»\n",
              "c: 6/══════════════════════════════════════════════════════════════════════════»\n",
              "                                                                               »\n",
              "«                     ░                                     ░                »\n",
              "«q_0: ────────────────░─────────────■───────────────────────░─────────────■──»\n",
              "«                     ░             │                       ░             │  »\n",
              "«q_1: ────────────────░─────────────┼───────────────────────░─────────────┼──»\n",
              "«                     ░             │                       ░             │  »\n",
              "«q_2: ────────────────░─────────────┼───────────────────────░─────────────┼──»\n",
              "«                     ░             │                       ░             │  »\n",
              "«q_3: ────────────────░────────■────┼───────────────────────░────────■────┼──»\n",
              "«                     ░        │    │                       ░        │    │  »\n",
              "«q_4: ────────────────░────────┼────┼───────────────────────░────────┼────┼──»\n",
              "«                     ░        │    │                       ░        │    │  »\n",
              "«q_5: ──■─────────────░───■────┼────┼────■────■─────────────░───■────┼────┼──»\n",
              "«     ┌─┴─┐┌───┐┌───┐ ░ ┌─┴─┐┌─┴─┐┌─┴─┐┌─┴─┐┌─┴─┐┌───┐┌───┐ ░ ┌─┴─┐┌─┴─┐┌─┴─┐»\n",
              "«q_6: ┤ X ├┤ H ├┤ X ├─░─┤ X ├┤ X ├┤ X ├┤ X ├┤ X ├┤ H ├┤ X ├─░─┤ X ├┤ X ├┤ X ├»\n",
              "«     └───┘└───┘└───┘ ░ └───┘└───┘└───┘└───┘└───┘└───┘└───┘ ░ └───┘└───┘└───┘»\n",
              "«c: 6/═══════════════════════════════════════════════════════════════════════»\n",
              "«                                                                            »\n",
              "«                ░                           ░                 ░ \n",
              "«q_0: ───────────░─────────────■─────────────░─────────────■───░─\n",
              "«                ░             │             ░             │   ░ \n",
              "«q_1: ───────────░─────────────┼─────────────░─────────────┼───░─\n",
              "«                ░             │             ░             │   ░ \n",
              "«q_2: ───────────░─────────────┼─────────────░─────────────┼───░─\n",
              "«                ░             │             ░             │   ░ \n",
              "«q_3: ───────────░────────■────┼─────────────░────────■────┼───░─\n",
              "«                ░        │    │             ░        │    │   ░ \n",
              "«q_4: ───────────░────────┼────┼─────────────░────────┼────┼───░─\n",
              "«                ░        │    │             ░        │    │   ░ \n",
              "«q_5: ───────────░───■────┼────┼─────────────░───■────┼────┼───░─\n",
              "«     ┌───┐┌───┐ ░ ┌─┴─┐┌─┴─┐┌─┴─┐┌───┐┌───┐ ░ ┌─┴─┐┌─┴─┐┌─┴─┐ ░ \n",
              "«q_6: ┤ H ├┤ X ├─░─┤ X ├┤ X ├┤ X ├┤ H ├┤ X ├─░─┤ X ├┤ X ├┤ X ├─░─\n",
              "«     └───┘└───┘ ░ └───┘└───┘└───┘└───┘└───┘ ░ └───┘└───┘└───┘ ░ \n",
              "«c: 6/═══════════════════════════════════════════════════════════\n",
              "«                                                                "
            ]
          },
          "execution_count": 36,
          "metadata": {},
          "output_type": "execute_result"
        }
      ],
      "source": [
        "circuit.h(6)\n",
        "circuit.x(6)\n",
        "circuit.barrier()\n",
        "circuit.cx(5,6)\n",
        "circuit.cx(3,6)\n",
        "circuit.cx(0,6)\n",
        "circuit.barrier()\n",
        "circuit.draw()"
      ]
    },
    {
      "cell_type": "code",
      "execution_count": 39,
      "metadata": {
        "colab": {
          "base_uri": "https://localhost:8080/",
          "height": 1000
        },
        "id": "KO1GgPM0wl1V",
        "outputId": "d7ff2280-d098-4384-ccf1-4f5955cd19ad"
      },
      "outputs": [
        {
          "data": {
            "text/html": [
              "<pre style=\"word-wrap: normal;white-space: pre;background: #fff0;line-height: 1.1;font-family: &quot;Courier New&quot;,Courier,monospace\">     ┌───┐                ░            ░                 ░                     »\n",
              "q_0: ┤ H ├────────────────░────────────░─────────────────░─────────────────────»\n",
              "     ├───┤                ░            ░                 ░                     »\n",
              "q_1: ┤ H ├────────────────░────────────░─────────────────░─────────────────────»\n",
              "     ├───┤                ░            ░                 ░                     »\n",
              "q_2: ┤ H ├────────────────░────────────░─────────────────░─────────────────────»\n",
              "     ├───┤                ░            ░                 ░                     »\n",
              "q_3: ┤ H ├────────────────░────────────░─────────────────░─────────────────────»\n",
              "     ├───┤                ░            ░                 ░                     »\n",
              "q_4: ┤ H ├────────────────░────────────░─────────────────░─────────────────────»\n",
              "     ├───┤                ░            ░                 ░                     »\n",
              "q_5: ┤ H ├────────────────░────────────░───■─────────────░───■────■────■────■──»\n",
              "     ├───┤┌───┐┌───┐┌───┐ ░ ┌───┐┌───┐ ░ ┌─┴─┐┌───┐┌───┐ ░ ┌─┴─┐┌─┴─┐┌─┴─┐┌─┴─┐»\n",
              "q_6: ┤ H ├┤ X ├┤ H ├┤ X ├─░─┤ H ├┤ X ├─░─┤ X ├┤ H ├┤ X ├─░─┤ X ├┤ X ├┤ X ├┤ X ├»\n",
              "     └───┘└───┘└───┘└───┘ ░ └───┘└───┘ ░ └───┘└───┘└───┘ ░ └───┘└───┘└───┘└───┘»\n",
              "c: 6/══════════════════════════════════════════════════════════════════════════»\n",
              "                                                                               »\n",
              "«                     ░                                     ░                »\n",
              "«q_0: ────────────────░─────────────■───────────────────────░─────────────■──»\n",
              "«                     ░             │                       ░             │  »\n",
              "«q_1: ────────────────░─────────────┼───────────────────────░─────────────┼──»\n",
              "«                     ░             │                       ░             │  »\n",
              "«q_2: ────────────────░─────────────┼───────────────────────░─────────────┼──»\n",
              "«                     ░             │                       ░             │  »\n",
              "«q_3: ────────────────░────────■────┼───────────────────────░────────■────┼──»\n",
              "«                     ░        │    │                       ░        │    │  »\n",
              "«q_4: ────────────────░────────┼────┼───────────────────────░────────┼────┼──»\n",
              "«                     ░        │    │                       ░        │    │  »\n",
              "«q_5: ──■─────────────░───■────┼────┼────■────■─────────────░───■────┼────┼──»\n",
              "«     ┌─┴─┐┌───┐┌───┐ ░ ┌─┴─┐┌─┴─┐┌─┴─┐┌─┴─┐┌─┴─┐┌───┐┌───┐ ░ ┌─┴─┐┌─┴─┐┌─┴─┐»\n",
              "«q_6: ┤ X ├┤ H ├┤ X ├─░─┤ X ├┤ X ├┤ X ├┤ X ├┤ X ├┤ H ├┤ X ├─░─┤ X ├┤ X ├┤ X ├»\n",
              "«     └───┘└───┘└───┘ ░ └───┘└───┘└───┘└───┘└───┘└───┘└───┘ ░ └───┘└───┘└───┘»\n",
              "«c: 6/═══════════════════════════════════════════════════════════════════════»\n",
              "«                                                                            »\n",
              "«                ░                           ░                 ░ ┌───┐ ░ ┌───┐»\n",
              "«q_0: ───────────░─────────────■─────────────░─────────────■───░─┤ H ├─░─┤ H ├»\n",
              "«                ░             │             ░             │   ░ ├───┤ ░ ├───┤»\n",
              "«q_1: ───────────░─────────────┼─────────────░─────────────┼───░─┤ H ├─░─┤ H ├»\n",
              "«                ░             │             ░             │   ░ ├───┤ ░ ├───┤»\n",
              "«q_2: ───────────░─────────────┼─────────────░─────────────┼───░─┤ H ├─░─┤ H ├»\n",
              "«                ░             │             ░             │   ░ ├───┤ ░ ├───┤»\n",
              "«q_3: ───────────░────────■────┼─────────────░────────■────┼───░─┤ H ├─░─┤ H ├»\n",
              "«                ░        │    │             ░        │    │   ░ ├───┤ ░ ├───┤»\n",
              "«q_4: ───────────░────────┼────┼─────────────░────────┼────┼───░─┤ H ├─░─┤ H ├»\n",
              "«                ░        │    │             ░        │    │   ░ ├───┤ ░ ├───┤»\n",
              "«q_5: ───────────░───■────┼────┼─────────────░───■────┼────┼───░─┤ H ├─░─┤ H ├»\n",
              "«     ┌───┐┌───┐ ░ ┌─┴─┐┌─┴─┐┌─┴─┐┌───┐┌───┐ ░ ┌─┴─┐┌─┴─┐┌─┴─┐ ░ └───┘ ░ └───┘»\n",
              "«q_6: ┤ H ├┤ X ├─░─┤ X ├┤ X ├┤ X ├┤ H ├┤ X ├─░─┤ X ├┤ X ├┤ X ├─░───────░──────»\n",
              "«     └───┘└───┘ ░ └───┘└───┘└───┘└───┘└───┘ ░ └───┘└───┘└───┘ ░       ░      »\n",
              "«c: 6/════════════════════════════════════════════════════════════════════════»\n",
              "«                                                                             »\n",
              "«      ░ ┌─┐┌───┐                          ░ ┌─┐               \n",
              "«q_0: ─░─┤M├┤ H ├──────────────────────────░─┤M├───────────────\n",
              "«      ░ └╥┘└┬─┬┘┌───┐                     ░ └╥┘┌─┐            \n",
              "«q_1: ─░──╫──┤M├─┤ H ├─────────────────────░──╫─┤M├────────────\n",
              "«      ░  ║  └╥┘ └┬─┬┘┌───┐                ░  ║ └╥┘┌─┐         \n",
              "«q_2: ─░──╫───╫───┤M├─┤ H ├────────────────░──╫──╫─┤M├─────────\n",
              "«      ░  ║   ║   └╥┘ └┬─┬┘┌───┐           ░  ║  ║ └╥┘┌─┐      \n",
              "«q_3: ─░──╫───╫────╫───┤M├─┤ H ├───────────░──╫──╫──╫─┤M├──────\n",
              "«      ░  ║   ║    ║   └╥┘ └┬─┬┘┌───┐      ░  ║  ║  ║ └╥┘┌─┐   \n",
              "«q_4: ─░──╫───╫────╫────╫───┤M├─┤ H ├──────░──╫──╫──╫──╫─┤M├───\n",
              "«      ░  ║   ║    ║    ║   └╥┘ └┬─┬┘┌───┐ ░  ║  ║  ║  ║ └╥┘┌─┐\n",
              "«q_5: ─░──╫───╫────╫────╫────╫───┤M├─┤ H ├─░──╫──╫──╫──╫──╫─┤M├\n",
              "«      ░  ║   ║    ║    ║    ║   └╥┘ └───┘ ░  ║  ║  ║  ║  ║ └╥┘\n",
              "«q_6: ─░──╫───╫────╫────╫────╫────╫────────░──╫──╫──╫──╫──╫──╫─\n",
              "«      ░  ║   ║    ║    ║    ║    ║        ░  ║  ║  ║  ║  ║  ║ \n",
              "«c: 6/════╩═══╩════╩════╩════╩════╩═══════════╩══╩══╩══╩══╩══╩═\n",
              "«         0   1    2    3    4    5           0  1  2  3  4  5 </pre>"
            ],
            "text/plain": [
              "     ┌───┐                ░            ░                 ░                     »\n",
              "q_0: ┤ H ├────────────────░────────────░─────────────────░─────────────────────»\n",
              "     ├───┤                ░            ░                 ░                     »\n",
              "q_1: ┤ H ├────────────────░────────────░─────────────────░─────────────────────»\n",
              "     ├───┤                ░            ░                 ░                     »\n",
              "q_2: ┤ H ├────────────────░────────────░─────────────────░─────────────────────»\n",
              "     ├───┤                ░            ░                 ░                     »\n",
              "q_3: ┤ H ├────────────────░────────────░─────────────────░─────────────────────»\n",
              "     ├───┤                ░            ░                 ░                     »\n",
              "q_4: ┤ H ├────────────────░────────────░─────────────────░─────────────────────»\n",
              "     ├───┤                ░            ░                 ░                     »\n",
              "q_5: ┤ H ├────────────────░────────────░───■─────────────░───■────■────■────■──»\n",
              "     ├───┤┌───┐┌───┐┌───┐ ░ ┌───┐┌───┐ ░ ┌─┴─┐┌───┐┌───┐ ░ ┌─┴─┐┌─┴─┐┌─┴─┐┌─┴─┐»\n",
              "q_6: ┤ H ├┤ X ├┤ H ├┤ X ├─░─┤ H ├┤ X ├─░─┤ X ├┤ H ├┤ X ├─░─┤ X ├┤ X ├┤ X ├┤ X ├»\n",
              "     └───┘└───┘└───┘└───┘ ░ └───┘└───┘ ░ └───┘└───┘└───┘ ░ └───┘└───┘└───┘└───┘»\n",
              "c: 6/══════════════════════════════════════════════════════════════════════════»\n",
              "                                                                               »\n",
              "«                     ░                                     ░                »\n",
              "«q_0: ────────────────░─────────────■───────────────────────░─────────────■──»\n",
              "«                     ░             │                       ░             │  »\n",
              "«q_1: ────────────────░─────────────┼───────────────────────░─────────────┼──»\n",
              "«                     ░             │                       ░             │  »\n",
              "«q_2: ────────────────░─────────────┼───────────────────────░─────────────┼──»\n",
              "«                     ░             │                       ░             │  »\n",
              "«q_3: ────────────────░────────■────┼───────────────────────░────────■────┼──»\n",
              "«                     ░        │    │                       ░        │    │  »\n",
              "«q_4: ────────────────░────────┼────┼───────────────────────░────────┼────┼──»\n",
              "«                     ░        │    │                       ░        │    │  »\n",
              "«q_5: ──■─────────────░───■────┼────┼────■────■─────────────░───■────┼────┼──»\n",
              "«     ┌─┴─┐┌───┐┌───┐ ░ ┌─┴─┐┌─┴─┐┌─┴─┐┌─┴─┐┌─┴─┐┌───┐┌───┐ ░ ┌─┴─┐┌─┴─┐┌─┴─┐»\n",
              "«q_6: ┤ X ├┤ H ├┤ X ├─░─┤ X ├┤ X ├┤ X ├┤ X ├┤ X ├┤ H ├┤ X ├─░─┤ X ├┤ X ├┤ X ├»\n",
              "«     └───┘└───┘└───┘ ░ └───┘└───┘└───┘└───┘└───┘└───┘└───┘ ░ └───┘└───┘└───┘»\n",
              "«c: 6/═══════════════════════════════════════════════════════════════════════»\n",
              "«                                                                            »\n",
              "«                ░                           ░                 ░ ┌───┐ ░ ┌───┐»\n",
              "«q_0: ───────────░─────────────■─────────────░─────────────■───░─┤ H ├─░─┤ H ├»\n",
              "«                ░             │             ░             │   ░ ├───┤ ░ ├───┤»\n",
              "«q_1: ───────────░─────────────┼─────────────░─────────────┼───░─┤ H ├─░─┤ H ├»\n",
              "«                ░             │             ░             │   ░ ├───┤ ░ ├───┤»\n",
              "«q_2: ───────────░─────────────┼─────────────░─────────────┼───░─┤ H ├─░─┤ H ├»\n",
              "«                ░             │             ░             │   ░ ├───┤ ░ ├───┤»\n",
              "«q_3: ───────────░────────■────┼─────────────░────────■────┼───░─┤ H ├─░─┤ H ├»\n",
              "«                ░        │    │             ░        │    │   ░ ├───┤ ░ ├───┤»\n",
              "«q_4: ───────────░────────┼────┼─────────────░────────┼────┼───░─┤ H ├─░─┤ H ├»\n",
              "«                ░        │    │             ░        │    │   ░ ├───┤ ░ ├───┤»\n",
              "«q_5: ───────────░───■────┼────┼─────────────░───■────┼────┼───░─┤ H ├─░─┤ H ├»\n",
              "«     ┌───┐┌───┐ ░ ┌─┴─┐┌─┴─┐┌─┴─┐┌───┐┌───┐ ░ ┌─┴─┐┌─┴─┐┌─┴─┐ ░ └───┘ ░ └───┘»\n",
              "«q_6: ┤ H ├┤ X ├─░─┤ X ├┤ X ├┤ X ├┤ H ├┤ X ├─░─┤ X ├┤ X ├┤ X ├─░───────░──────»\n",
              "«     └───┘└───┘ ░ └───┘└───┘└───┘└───┘└───┘ ░ └───┘└───┘└───┘ ░       ░      »\n",
              "«c: 6/════════════════════════════════════════════════════════════════════════»\n",
              "«                                                                             »\n",
              "«      ░ ┌─┐┌───┐                          ░ ┌─┐               \n",
              "«q_0: ─░─┤M├┤ H ├──────────────────────────░─┤M├───────────────\n",
              "«      ░ └╥┘└┬─┬┘┌───┐                     ░ └╥┘┌─┐            \n",
              "«q_1: ─░──╫──┤M├─┤ H ├─────────────────────░──╫─┤M├────────────\n",
              "«      ░  ║  └╥┘ └┬─┬┘┌───┐                ░  ║ └╥┘┌─┐         \n",
              "«q_2: ─░──╫───╫───┤M├─┤ H ├────────────────░──╫──╫─┤M├─────────\n",
              "«      ░  ║   ║   └╥┘ └┬─┬┘┌───┐           ░  ║  ║ └╥┘┌─┐      \n",
              "«q_3: ─░──╫───╫────╫───┤M├─┤ H ├───────────░──╫──╫──╫─┤M├──────\n",
              "«      ░  ║   ║    ║   └╥┘ └┬─┬┘┌───┐      ░  ║  ║  ║ └╥┘┌─┐   \n",
              "«q_4: ─░──╫───╫────╫────╫───┤M├─┤ H ├──────░──╫──╫──╫──╫─┤M├───\n",
              "«      ░  ║   ║    ║    ║   └╥┘ └┬─┬┘┌───┐ ░  ║  ║  ║  ║ └╥┘┌─┐\n",
              "«q_5: ─░──╫───╫────╫────╫────╫───┤M├─┤ H ├─░──╫──╫──╫──╫──╫─┤M├\n",
              "«      ░  ║   ║    ║    ║    ║   └╥┘ └───┘ ░  ║  ║  ║  ║  ║ └╥┘\n",
              "«q_6: ─░──╫───╫────╫────╫────╫────╫────────░──╫──╫──╫──╫──╫──╫─\n",
              "«      ░  ║   ║    ║    ║    ║    ║        ░  ║  ║  ║  ║  ║  ║ \n",
              "«c: 6/════╩═══╩════╩════╩════╩════╩═══════════╩══╩══╩══╩══╩══╩═\n",
              "«         0   1    2    3    4    5           0  1  2  3  4  5 "
            ]
          },
          "execution_count": 39,
          "metadata": {},
          "output_type": "execute_result"
        }
      ],
      "source": [
        "circuit.h([0,1,2,3,4,5])\n",
        "circuit.barrier()\n",
        "circuit.measure([0,1,2,3,4,5],[0,1,2,3,4,5])\n",
        "circuit.draw()\n"
      ]
    },
    {
      "cell_type": "code",
      "execution_count": 40,
      "metadata": {
        "colab": {
          "base_uri": "https://localhost:8080/",
          "height": 507
        },
        "id": "XaWck6I3xgf8",
        "outputId": "19681a2f-e999-4f67-f4e9-a7b44d20e6e2"
      },
      "outputs": [
        {
          "data": {
            "image/png": "[encoded data removed]",
            "text/plain": [
              "<Figure size 700x500 with 1 Axes>"
            ]
          },
          "execution_count": 40,
          "metadata": {},
          "output_type": "execute_result"
        }
      ],
      "source": [
        "#And finally, let's simulate the circuit on Aer's qasm_simulator. We will set the number of shots to 1.\n",
        "\n",
        "simulator = Aer.get_backend('qasm_simulator')\n",
        "result = execute(circuit, backend=simulator, shots=1).result()\n",
        "from qiskit.visualization import plot_histogram\n",
        "plot_histogram(result.get_counts(circuit))\n",
        "counts=get_counts(circuit)"
      ]
    },
    {
      "cell_type": "code",
      "execution_count": 41,
      "metadata": {
        "colab": {
          "base_uri": "https://localhost:8080/"
        },
        "id": "6EfXFeWhx7dg",
        "outputId": "db1d7314-67f3-449e-8c70-950890bfdbde"
      },
      "outputs": [
        {
          "name": "stdout",
          "output_type": "stream",
          "text": [
            "{'100': 228, '101': 265, '110': 264, '111': 243}\n"
          ]
        }
      ],
      "source": [
        "print(counts)"
      ]
    },
    {
      "attachments": {},
      "cell_type": "markdown",
      "metadata": {
        "id": "Yyqn6QFPy3SW"
      },
      "source": [
        "# New Section"
      ]
    },
    {
      "cell_type": "code",
      "execution_count": null,
      "metadata": {
        "id": "k519KZsdypve"
      },
      "outputs": [],
      "source": []
    }
  ],
  "metadata": {
    "colab": {
      "provenance": [],
      "toc_visible": true
    },
    "kernelspec": {
      "display_name": "Python 3",
      "name": "python3"
    },
    "language_info": {
      "name": "python"
    }
  },
  "nbformat": 4,
  "nbformat_minor": 0
}
