{
  "cells": [
    {
      "attachments": {},
      "cell_type": "markdown",
      "metadata": {
        "id": "rgz01wD8psh1"
      },
      "source": [
        "# Part 3"
      ]
    },
    {
      "cell_type": "code",
      "execution_count": 13,
      "metadata": {
        "colab": {
          "base_uri": "https://localhost:8080/"
        },
        "id": "SLtABajgpxVF",
        "outputId": "d33c17fe-e3fa-4a3c-f5fb-75578c88f78f"
      },
      "outputs": [
        {
          "data": {
            "text/plain": [
              "<qiskit.circuit.instructionset.InstructionSet at 0x7fe58fb9d660>"
            ]
          },
          "execution_count": 13,
          "metadata": {},
          "output_type": "execute_result"
        }
      ],
      "source": [
        "circuit = QuantumCircuit(3,3)\n",
        "# QUBIT ORDERING\n",
        "# q0 = State |psi> that we want to teleport\n",
        "# q1 = Alice's half of the Bell pair\n",
        "# q2 = Bob's half of the Bell pair, the destination of the teleportation\n",
        "\n",
        "# ========================\n",
        "# Step 0: Create the state to be teleported in qubit 0\n",
        "circuit.x(0) # qubit 0 is now in state |1>, and this is the state that we want to teleport\n",
        "\n",
        "circuit.barrier() # just a visual aid\n",
        "\n",
        "# ========================\n",
        "# Step 1: create an entangled Bell pair between Alice and Bob (qubits 1 and 2)\n",
        "circuit.h(1) #header mark gate\n",
        "circuit.cx(1,2) #control x gate\n",
        "\n",
        "circuit.barrier() # just a visual aid\n",
        "\n",
        "# ========================\n",
        "# Step 2: Alice applies a series of operations \n",
        "# between the state to teleport (qubit 0) and her half of the Bell pair (qubit 1)\n",
        "circuit.cx(0,1)\n",
        "circuit.h(0)\n",
        "\n",
        "circuit.barrier() # just a visual aid\n",
        "\n",
        "# ========================\n",
        "# Step 3: Alice measures both qubits 0 and 1\n",
        "circuit.measure([0, 1], [0, 1]) # results stored in classical bits 0 and 1, respectively\n",
        "\n",
        "circuit.barrier() # just a visual aid\n",
        "\n",
        "# ========================\n",
        "# Step 4: Now that Alice has measured the two qubits, their states have collapsed to 0 and 1. \n",
        "# Bob can do operations conditioned on these qubits to his half of the Bell pair\n",
        "# Note that while we're conditioning Bob's operation on the collapsed qubits 0 and 1, we can\n",
        "# do teleportation over long distances by transmitting the classical information in classical bits 0 and 1\n",
        "circuit.cx(1, 2)\n",
        "circuit.cz(0, 2)\n",
        "\n",
        "# Step 5: Done! Measure Bob's qubit to find out what state it is in\n",
        "circuit.measure([2], [2])"
      ]
    },
    {
      "cell_type": "code",
      "execution_count": 15,
      "metadata": {
        "colab": {
          "base_uri": "https://localhost:8080/",
          "height": 156
        },
        "id": "e2w0pbiTruD4",
        "outputId": "df37845a-c7e5-4f4e-afb3-3f483430bfcb"
      },
      "outputs": [
        {
          "data": {
            "text/html": [
              "<pre style=\"word-wrap: normal;white-space: pre;background: #fff0;line-height: 1.1;font-family: &quot;Courier New&quot;,Courier,monospace\">     ┌───┐ ░            ░      ┌───┐ ░ ┌─┐    ░            \n",
              "q_0: ┤ X ├─░────────────░───■──┤ H ├─░─┤M├────░───────■────\n",
              "     └───┘ ░ ┌───┐      ░ ┌─┴─┐└───┘ ░ └╥┘┌─┐ ░       │    \n",
              "q_1: ──────░─┤ H ├──■───░─┤ X ├──────░──╫─┤M├─░───■───┼────\n",
              "           ░ └───┘┌─┴─┐ ░ └───┘      ░  ║ └╥┘ ░ ┌─┴─┐ │ ┌─┐\n",
              "q_2: ──────░──────┤ X ├─░────────────░──╫──╫──░─┤ X ├─■─┤M├\n",
              "           ░      └───┘ ░            ░  ║  ║  ░ └───┘   └╥┘\n",
              "c: 3/═══════════════════════════════════╩══╩═════════════╩═\n",
              "                                        0  1             2 </pre>"
            ],
            "text/plain": [
              "     ┌───┐ ░            ░      ┌───┐ ░ ┌─┐    ░            \n",
              "q_0: ┤ X ├─░────────────░───■──┤ H ├─░─┤M├────░───────■────\n",
              "     └───┘ ░ ┌───┐      ░ ┌─┴─┐└───┘ ░ └╥┘┌─┐ ░       │    \n",
              "q_1: ──────░─┤ H ├──■───░─┤ X ├──────░──╫─┤M├─░───■───┼────\n",
              "           ░ └───┘┌─┴─┐ ░ └───┘      ░  ║ └╥┘ ░ ┌─┴─┐ │ ┌─┐\n",
              "q_2: ──────░──────┤ X ├─░────────────░──╫──╫──░─┤ X ├─■─┤M├\n",
              "           ░      └───┘ ░            ░  ║  ║  ░ └───┘   └╥┘\n",
              "c: 3/═══════════════════════════════════╩══╩═════════════╩═\n",
              "                                        0  1             2 "
            ]
          },
          "execution_count": 15,
          "metadata": {},
          "output_type": "execute_result"
        }
      ],
      "source": [
        "%matplotlib inline\n",
        "circuit.draw()"
      ]
    },
    {
      "cell_type": "code",
      "execution_count": 18,
      "metadata": {
        "colab": {
          "base_uri": "https://localhost:8080/",
          "height": 473
        },
        "id": "eJFGl5UcseLQ",
        "outputId": "497653df-7f92-40db-ff74-c7ae0b493966"
      },
      "outputs": [
        {
          "data": {
            "image/png": "[encoded data removed]",
            "text/plain": [
              "<Figure size 700x500 with 1 Axes>"
            ]
          },
          "execution_count": 18,
          "metadata": {},
          "output_type": "execute_result"
        }
      ],
      "source": [
        "#And finally, let's simulate the circuit on Aer's qasm_simulator\n",
        "\n",
        "simulator = Aer.get_backend('qasm_simulator')\n",
        "result = execute(circuit, backend=simulator, shots=1000).result() # to get results we use dot result\n",
        "from qiskit.visualization import plot_histogram\n",
        "plot_histogram(result.get_counts(circuit))"
      ]
    },
    {
      "cell_type": "code",
      "execution_count": 20,
      "metadata": {
        "colab": {
          "base_uri": "https://localhost:8080/"
        },
        "id": "eBK5Z6UktKb4",
        "outputId": "22593ed7-6f98-4b64-8125-ac9565dbe3eb"
      },
      "outputs": [
        {
          "name": "stdout",
          "output_type": "stream",
          "text": [
            "{'100': 228, '101': 265, '110': 264, '111': 243}\n"
          ]
        }
      ],
      "source": [
        "counts=result.get_counts()\n",
        "print(counts)"
      ]
    }
  ],
  "metadata": {
    "colab": {
      "provenance": [],
      "toc_visible": true
    },
    "kernelspec": {
      "display_name": "Python 3",
      "name": "python3"
    },
    "language_info": {
      "name": "python"
    }
  },
  "nbformat": 4,
  "nbformat_minor": 0
}
